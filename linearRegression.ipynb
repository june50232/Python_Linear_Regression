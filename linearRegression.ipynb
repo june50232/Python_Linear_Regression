{
 "cells": [
  {
   "cell_type": "code",
   "execution_count": 1,
   "metadata": {},
   "outputs": [],
   "source": [
    "%matplotlib inline"
   ]
  },
  {
   "cell_type": "code",
   "execution_count": 7,
   "metadata": {},
   "outputs": [],
   "source": [
    "import pandas as pd"
   ]
  },
  {
   "cell_type": "code",
   "execution_count": 3,
   "metadata": {},
   "outputs": [],
   "source": [
    "import matplotlib.pyplot as plt"
   ]
  },
  {
   "cell_type": "code",
   "execution_count": 38,
   "metadata": {},
   "outputs": [],
   "source": [
    "from sklearn.linear_model import LinearRegression"
   ]
  },
  {
   "cell_type": "code",
   "execution_count": 39,
   "metadata": {},
   "outputs": [],
   "source": [
    "import numpy as np"
   ]
  },
  {
   "cell_type": "code",
   "execution_count": 8,
   "metadata": {},
   "outputs": [],
   "source": [
    "#讀取資料\n",
    "url = \"https://vincentarelbundock.github.io/Rdatasets/csv/datasets/cars.csv\";\n",
    "cars = pd.read_csv(url, index_col=0)"
   ]
  },
  {
   "cell_type": "code",
   "execution_count": 50,
   "metadata": {},
   "outputs": [],
   "source": [
    "# 取出變數並轉換成 nd.array 型別與公制單位，資料前處理\n",
    "speed = cars[\"speed\"].values * 1.6094 # feature\n",
    "dist = cars[\"dist\"].values * 0.3048 # feature\n",
    "\n",
    "# 轉換為 [n_samples, n_features] 維度\n",
    "x =np.reshape(speed, (len(speed), 1))\n",
    "y =np.reshape(dist, (len(dist), 1))\n",
    "\n",
    "# 線性迴歸模型，訓練\n",
    "lm=LinearRegression()\n",
    "lm.fit(x, y)\n",
    "\n",
    "# 預測\n",
    "to_be_predicted=np.array([30])\n",
    "predicted =lm.predict(np.reshape(to_be_predicted, (len(to_be_predicted), 1)))"
   ]
  },
  {
   "cell_type": "code",
   "execution_count": 53,
   "metadata": {},
   "outputs": [
    {
     "data": {
      "image/png": "[encoded data removed]",
      "text/plain": [
       "<Figure size 432x288 with 1 Axes>"
      ]
     },
     "metadata": {
      "needs_background": "light"
     },
     "output_type": "display_data"
    }
   ],
   "source": [
    "# 當時速30KM時，煞車距離約為紅點標記處16.98KM\n",
    "plt.plot(to_be_predicted, predicted, color='red', marker='^', markersize=10)\n",
    "\n",
    "# 線性迴歸線\n",
    "plt.plot(speed, lm.predict(np.reshape(speed, (len(speed), 1))), color='blue', linewidth=3)\n",
    "\n",
    "# 資料分佈點\n",
    "plt.scatter(speed, dist, color='black')\n",
    "plt.show()"
   ]
  },
  {
   "cell_type": "code",
   "execution_count": 60,
   "metadata": {},
   "outputs": [
    {
     "data": {
      "text/plain": [
       "21.095532407014215"
      ]
     },
     "execution_count": 60,
     "metadata": {},
     "output_type": "execute_result"
    }
   ],
   "source": [
    "# 績效 mse\n",
    "mse=np.mean((lm.predict(x) -y) **2)\n",
    "mse"
   ]
  },
  {
   "cell_type": "code",
   "execution_count": 62,
   "metadata": {},
   "outputs": [
    {
     "data": {
      "text/plain": [
       "0.6510793807582509"
      ]
     },
     "execution_count": 62,
     "metadata": {},
     "output_type": "execute_result"
    }
   ],
   "source": [
    "# 績效 r_squared\n",
    "r_squared=lm.score(x, y)\n",
    "r_squared"
   ]
  },
  {
   "cell_type": "code",
   "execution_count": null,
   "metadata": {},
   "outputs": [],
   "source": []
  }
 ],
 "metadata": {
  "kernelspec": {
   "display_name": "Python 3",
   "language": "python",
   "name": "python3"
  },
  "language_info": {
   "codemirror_mode": {
    "name": "ipython",
    "version": 3
   },
   "file_extension": ".py",
   "mimetype": "text/x-python",
   "name": "python",
   "nbconvert_exporter": "python",
   "pygments_lexer": "ipython3",
   "version": "3.7.1"
  }
 },
 "nbformat": 4,
 "nbformat_minor": 2
}
